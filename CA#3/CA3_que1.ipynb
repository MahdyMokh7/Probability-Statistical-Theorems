{
  "nbformat": 4,
  "nbformat_minor": 0,
  "metadata": {
    "colab": {
      "provenance": []
    },
    "kernelspec": {
      "name": "python3",
      "display_name": "Python 3"
    },
    "language_info": {
      "name": "python"
    }
  },
  "cells": [
    {
      "cell_type": "markdown",
      "source": [
        "# **Que1.**"
      ],
      "metadata": {
        "id": "gO3YTGZI89Rn"
      }
    },
    {
      "cell_type": "markdown",
      "source": [
        "# 1.\n",
        "\n",
        "a. Auto encoders can be used in compressing images such that the image gets compressed by the encoder and then gets decoded and from the latent space it will get transferred again to the original image. This way we can send pictures faster and without taking up much space.\n",
        "\n",
        "b. The second use of this technology is for the general reduction of the dimensions of any given file. These low-dimensional features are extracted by the encoder and then the data is reconstructed from the latent space using the decoder. This application is useful for analyzing complex data and extracting meaningful patterns.\n",
        "\n",
        "c. One of the other applications of the autoencoder is for noise cancelation, in a way when you get the sound of something the encoder only gets the important parts (low-dimensional features) and after decoding it, it is trained in a way that will remove the noises that aren't part of the things that people want to hear."
      ],
      "metadata": {
        "id": "PNykX7xzD4G6"
      }
    },
    {
      "cell_type": "markdown",
      "source": [
        "# 2.\n",
        "One of the key parts of the auto-encoders is the latent space that the auto encoders have. The clarity of each image is directly dependent on the latent space size, meaning the latent must have enough space to store the important data of the image, file, or whatever we are encoding and then decoding.\n",
        "\n",
        "If the size of the latent space is too small, it may not capture all the essential features required for accurate reconstruction of the images. The bigger the latent space is the better the quality of the image we reconstructed will be.\n",
        "\n",
        "To improve the quality of the reconstructed images, it's important to optimize the size and quality of the latent space to ensure that it retains the necessary information for accurate image reconstruction. This optimization process involves finding the right balance between the dimensionality of the latent space and its ability to capture and represent the essential features of the input data."
      ],
      "metadata": {
        "id": "tv68tsAQIrm0"
      }
    },
    {
      "cell_type": "markdown",
      "source": [
        "# 3."
      ],
      "metadata": {
        "id": "rLeh1tIMYfCe"
      }
    },
    {
      "cell_type": "markdown",
      "source": [
        "\n",
        "\n",
        "a/"
      ],
      "metadata": {
        "id": "3aNgkb4-YaGH"
      }
    },
    {
      "cell_type": "code",
      "source": [
        "from keras.datasets import mnist\n",
        "(_, _) , (test_images, _) = mnist.load_data()\n",
        "test_images = test_images.reshape(test_images.shape[0], -1)\n",
        "test_images = test_images.astype('float32') / 255.0"
      ],
      "metadata": {
        "id": "av-tspZhYKwT"
      },
      "execution_count": 48,
      "outputs": []
    },
    {
      "cell_type": "markdown",
      "source": [
        "b/"
      ],
      "metadata": {
        "id": "n29isyZ8ZY58"
      }
    },
    {
      "cell_type": "code",
      "source": [
        "# from google.colab import files\n",
        "# uploaded = files.upload()\n",
        "from google.colab import drive\n",
        "drive.mount('/content/drive')"
      ],
      "metadata": {
        "colab": {
          "base_uri": "https://localhost:8080/"
        },
        "id": "glWvke5BZUgY",
        "outputId": "05cba75b-769c-473a-f227-8dc364962f76"
      },
      "execution_count": 49,
      "outputs": [
        {
          "output_type": "stream",
          "name": "stdout",
          "text": [
            "Drive already mounted at /content/drive; to attempt to forcibly remount, call drive.mount(\"/content/drive\", force_remount=True).\n"
          ]
        }
      ]
    },
    {
      "cell_type": "code",
      "source": [
        "import tensorflow as tf\n",
        "autoencoder = tf.keras.models.load_model('/content/drive/My Drive/mnist_AE.h5')\n",
        "reconstructed_images = autoencoder.predict(test_images)"
      ],
      "metadata": {
        "id": "oBoIoPDBYYh6",
        "colab": {
          "base_uri": "https://localhost:8080/"
        },
        "outputId": "f9630112-827a-449f-8573-60f1ac68ccaf"
      },
      "execution_count": 50,
      "outputs": [
        {
          "output_type": "stream",
          "name": "stdout",
          "text": [
            "313/313 [==============================] - 1s 4ms/step\n"
          ]
        }
      ]
    },
    {
      "cell_type": "markdown",
      "source": [
        "c/\n",
        "We showed 4 samples of test_images and the reconstructed_image of the corresponding test_image. We did it with the use of getting 4 random integers between 10000 and 0, and then we showed it using the matplotlib.pyplot library."
      ],
      "metadata": {
        "id": "aWk79CW6loMH"
      }
    },
    {
      "cell_type": "markdown",
      "source": [],
      "metadata": {
        "id": "6pdiG7_0DYyM"
      }
    },
    {
      "cell_type": "code",
      "source": [
        "# test_images\n",
        "\n",
        "import matplotlib.pyplot as plt\n",
        "import random\n",
        "\n",
        "# show original and reconstructed images\n",
        "n = 4\n",
        "plt.figure(figsize=(20, 4))\n",
        "for i in range(n):\n",
        "    # Test image\n",
        "    ax = plt.subplot(2, n, i + 1)\n",
        "    rand_num = random.randint(0, len(test_images) - 1)\n",
        "    plt.imshow(test_images[rand_num].reshape(28, 28))\n",
        "\n",
        "    ax.get_xaxis().set_visible(False)\n",
        "    ax.get_yaxis().set_visible(False)\n",
        "\n",
        "    # Reconstructed image\n",
        "    ax = plt.subplot(2, n, i + 1 + n)\n",
        "    plt.imshow(reconstructed_images[rand_num].reshape(28, 28))\n",
        "\n",
        "    ax.get_xaxis().set_visible(False)\n",
        "    ax.get_yaxis().set_visible(False)\n",
        "    print(\"i:  \", rand_num)\n",
        "plt.show()"
      ],
      "metadata": {
        "id": "2b7DKZudeS7f",
        "colab": {
          "base_uri": "https://localhost:8080/",
          "height": 414
        },
        "outputId": "c52624c8-0c1f-44bb-d5c9-b7b810e931e7"
      },
      "execution_count": 51,
      "outputs": [
        {
          "output_type": "stream",
          "name": "stdout",
          "text": [
            "i:   2892\n",
            "i:   7432\n",
            "i:   8730\n",
            "i:   3537\n"
          ]
        },
        {
          "output_type": "display_data",
          "data": {
            "text/plain": [
              "<Figure size 2000x400 with 8 Axes>"
            ],
            "image/png": "[encoded data removed]"
          },
          "metadata": {}
        }
      ]
    },
    {
      "cell_type": "markdown",
      "source": [],
      "metadata": {
        "id": "J1DLhkSQDcIR"
      }
    },
    {
      "cell_type": "markdown",
      "source": [
        "d/\n",
        "\n",
        "1. We wrote a function to calculate the MSE.\n",
        "\n",
        "2. We calculated all the MSE's.\n",
        "\n",
        "3. We showed the histogram of all the MSEs."
      ],
      "metadata": {
        "id": "ZefpkRSxDb_6"
      }
    },
    {
      "cell_type": "code",
      "source": [
        "import numpy as np\n",
        "\n",
        "# 1\n",
        "def calc_mse(org, recons):\n",
        "    error = org - recons\n",
        "    mse = np.mean(np.square(error))\n",
        "    return mse\n",
        "\n",
        "# 2\n",
        "mse_values = []\n",
        "for i in range(len(test_images)):\n",
        "    mse = calc_mse(test_images[i], reconstructed_images[i])\n",
        "    mse_values.append(mse)\n",
        "\n",
        "# 3\n",
        "plt.hist(mse_values, bins=30, edgecolor='black', color='navy')\n",
        "plt.xlabel('MSE Values')\n",
        "plt.ylabel('Frequency')\n",
        "plt.title('Histogram of MSE Values')\n",
        "plt.show()"
      ],
      "metadata": {
        "colab": {
          "base_uri": "https://localhost:8080/",
          "height": 472
        },
        "id": "gJfTXY1VEbpW",
        "outputId": "5a54057c-11c8-4165-c295-575b166c69ef"
      },
      "execution_count": 52,
      "outputs": [
        {
          "output_type": "display_data",
          "data": {
            "text/plain": [
              "<Figure size 640x480 with 1 Axes>"
            ],
            "image/png": "[encoded data removed]"
          },
          "metadata": {}
        }
      ]
    },
    {
      "cell_type": "markdown",
      "source": [
        "e/ Steps\n",
        "\n",
        "1. Calculate the mean and the standard deviation of the MSEs.\n",
        "\n",
        "2. put the mse_values(data) and the mean, std in the function and if the p_value is greater than 5% then we cannot reject the assumption, otherwise we do reject it."
      ],
      "metadata": {
        "id": "voIhKTHsHQlb"
      }
    },
    {
      "cell_type": "code",
      "source": [
        "mean_mse = np.mean(mse_values)\n",
        "std_mse = np.std(mse_values)\n",
        "\n",
        "from scipy import stats\n",
        "ks_statistic, p_value = stats.kstest(mse_values, cdf='norm', args=(mean_mse, std_mse))\n",
        "\n",
        "\n",
        "print(f\"p_value:  {p_value}\")\n",
        "if p_value * 100 > 5:\n",
        "    print(f\"We can accept that the datas(the mse values) are a normal distribution with the parameters  mean={mean_mse} ,  std={std_mse}\")\n",
        "else:\n",
        "    print(\"The assumption is rejected, thus the mse's aren't a normal distribution\")"
      ],
      "metadata": {
        "colab": {
          "base_uri": "https://localhost:8080/"
        },
        "id": "3dAX7BTwKXRy",
        "outputId": "e2acede1-ff1a-4a98-9949-7521dcae6604"
      },
      "execution_count": 53,
      "outputs": [
        {
          "output_type": "stream",
          "name": "stdout",
          "text": [
            "p_value:  4.538721695605657e-43\n",
            "The assumption is rejected, thus the mse's aren't a normal distribution\n"
          ]
        }
      ]
    }
  ]
}