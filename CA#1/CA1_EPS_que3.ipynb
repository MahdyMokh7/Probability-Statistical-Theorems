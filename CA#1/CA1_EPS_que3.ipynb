{
  "nbformat": 4,
  "nbformat_minor": 0,
  "metadata": {
    "colab": {
      "provenance": [],
      "toc_visible": true
    },
    "kernelspec": {
      "name": "python3",
      "display_name": "Python 3"
    },
    "language_info": {
      "name": "python"
    }
  },
  "cells": [
    {
      "cell_type": "markdown",
      "source": [
        "# **Que3**"
      ],
      "metadata": {
        "id": "tSmT-qDLw0Hv"
      }
    },
    {
      "cell_type": "markdown",
      "source": [
        "1. Importing all the libraries and initializing all the given const parameters.\n",
        "\n",
        "$\\mu$ = 80\n",
        "\n",
        "$\\sigma$ = 12\n",
        "\n",
        "n -> $\\infty$\n",
        "\n",
        "X = test_score\n",
        "\n",
        "X(random variable) ~ N(80, 12^2)"
      ],
      "metadata": {
        "id": "7kCrtoriw4UA"
      }
    },
    {
      "cell_type": "code",
      "source": [
        "import numpy as np\n",
        "from scipy.stats import norm\n",
        "import matplotlib.pyplot as plt\n",
        "\n",
        "AVG = 80\n",
        "STD_DEVIATION = 12\n",
        "TEST_SCORE = norm(80, 12)"
      ],
      "metadata": {
        "id": "5Asy4GcGYgIY"
      },
      "execution_count": 12,
      "outputs": []
    },
    {
      "cell_type": "markdown",
      "source": [
        "2. We want to find out if a student is in the top ten percent of the class, what is his/her minimum score?\n",
        "\n",
        "p(X > x) = 1 - p(X < x) = 10/100  $\\implies$ F(x) = 90/100"
      ],
      "metadata": {
        "id": "Eozn8JGiaAhx"
      }
    },
    {
      "cell_type": "code",
      "source": [
        "def part1():\n",
        "    prob = 90/100\n",
        "    min_score = TEST_SCORE.ppf(prob)\n",
        "    print(\"His/Her minimum score is: \", min_score)"
      ],
      "metadata": {
        "id": "gdXb17JcaFq-"
      },
      "execution_count": 13,
      "outputs": []
    },
    {
      "cell_type": "code",
      "source": [
        "part1()"
      ],
      "metadata": {
        "colab": {
          "base_uri": "https://localhost:8080/"
        },
        "id": "XyWmHgGdxya-",
        "outputId": "64c196e7-72bf-4d19-89f4-e735ed80b870"
      },
      "execution_count": 14,
      "outputs": [
        {
          "output_type": "stream",
          "name": "stdout",
          "text": [
            "His/Her minimum score is:  95.3786187865352\n"
          ]
        }
      ]
    },
    {
      "cell_type": "markdown",
      "source": [
        "3. We want to find out What is the range of scores in the second and third quartiles?\n",
        "\n",
        "0.5 < F(x) < 0.75 $\\implies$ F(x1) = 0.5 & F(x2) = 0.75\n",
        "\n",
        "x1 <= X <= x2: X?"
      ],
      "metadata": {
        "id": "1UqxBUM3YAG1"
      }
    },
    {
      "cell_type": "code",
      "source": [
        "def part2():\n",
        "    prob_start_range = 0.5\n",
        "    prob_end_range = 0.75\n",
        "    score_start_range = TEST_SCORE.ppf(prob_start_range)\n",
        "    score_end_range = TEST_SCORE.ppf(prob_end_range)\n",
        "    print(f\"The range of scores inbetween quartile 2 and 3 is: [{score_start_range}, {score_end_range}]\")"
      ],
      "metadata": {
        "id": "x03lTkKi_w2o"
      },
      "execution_count": 15,
      "outputs": []
    },
    {
      "cell_type": "code",
      "source": [
        "part2()"
      ],
      "metadata": {
        "colab": {
          "base_uri": "https://localhost:8080/"
        },
        "id": "KqDwI2pOx2G5",
        "outputId": "caa59c7f-5aa9-4e3f-fe1f-ad0545fb3948"
      },
      "execution_count": 16,
      "outputs": [
        {
          "output_type": "stream",
          "name": "stdout",
          "text": [
            "The range of scores inbetween quartile 2 and 3 is: [80.0, 88.09387700235298]\n"
          ]
        }
      ]
    },
    {
      "cell_type": "markdown",
      "source": [
        "4. We want to find out What is the probability that the score is between 80 and 90?\n",
        "\n",
        "p(80 < X < 90) = F(90) - F(80) = ?\n",
        "\n"
      ],
      "metadata": {
        "id": "iHPcpIIDA-I5"
      }
    },
    {
      "cell_type": "code",
      "source": [
        "def part3():\n",
        "    score_start_range = 80\n",
        "    score_end_range = 90\n",
        "    prob_start_range = TEST_SCORE.cdf(score_start_range)\n",
        "    prob_end_range = TEST_SCORE.cdf(score_end_range)\n",
        "    prob = prob_end_range - prob_start_range\n",
        "    print(f'The probability of scores being between 80 and 90 is: {prob}')"
      ],
      "metadata": {
        "id": "eg_tQnz8Bgfv"
      },
      "execution_count": 17,
      "outputs": []
    },
    {
      "cell_type": "markdown",
      "source": [],
      "metadata": {
        "id": "FY2U2_guyiLE"
      }
    },
    {
      "cell_type": "code",
      "source": [
        "part3()"
      ],
      "metadata": {
        "colab": {
          "base_uri": "https://localhost:8080/"
        },
        "id": "9n1xEmDvx4y5",
        "outputId": "d15a6e7d-b2b9-4645-b248-1107fe55ec4b"
      },
      "execution_count": 18,
      "outputs": [
        {
          "output_type": "stream",
          "name": "stdout",
          "text": [
            "The probability of scores being between 80 and 90 is: 0.29767161903635686\n"
          ]
        }
      ]
    },
    {
      "cell_type": "markdown",
      "source": [
        "5. central limit theory\n",
        "\n",
        "phisycs $\\approx$ U(40, 80)  ->  E = (80+40)/2 = 60\n",
        "\n",
        "AP $\\approx$ exp(1/60) -> E = 1/(1/60) = 60\n",
        "\n",
        "DM $\\approx$ Poi(60) -> E = 60\n",
        "\n",
        "in range (0,120) I'll calculate the sum of the probabilities to see wether it's graph be like a Noramal distribution's graph"
      ],
      "metadata": {
        "id": "adcyTjvzCvSX"
      }
    },
    {
      "cell_type": "code",
      "source": [
        "def part4():\n",
        "    size = 50000\n",
        "    physics = np.random.uniform(40, 80, size=size)\n",
        "    ap = np.random.exponential(1/60, size=size)\n",
        "    dm = np.random.poisson(60, size=size)\n",
        "    sum_random_variable = physics + ap + dm\n",
        "\n",
        "    # calculate the average and the standard deviation\n",
        "    exp = np.mean(sum_random_variable)\n",
        "    var = np.var(sum_random_variable, ddof=1)\n",
        "    std_dev = np.std(sum_random_variable, ddof=1)\n",
        "    norm_approximated_samples = np.linspace(80, 180, size)\n",
        "    print(f'variance: {var}',  f'expectation: {exp}', f'standard deviation: {std_dev}', sep='\\n')\n",
        "\n",
        "    # make figure\n",
        "    plt.figure()\n",
        "    plt.hist(sum_random_variable, density=True, bins=30, color='g', label='Sum of Random Variables')\n",
        "    plt.plot(norm_approximated_samples, norm.pdf(norm_approximated_samples, exp, std_dev), color='r', label='normal approximated')\n",
        "    plt.xlabel('numbers')\n",
        "    plt.ylabel('density')\n",
        "    plt.legend()\n",
        "    plt.show()"
      ],
      "metadata": {
        "id": "WplHaPxScvT-"
      },
      "execution_count": 19,
      "outputs": []
    },
    {
      "cell_type": "code",
      "source": [
        "part4()"
      ],
      "metadata": {
        "colab": {
          "base_uri": "https://localhost:8080/",
          "height": 506
        },
        "id": "N0WTxVKfx-T3",
        "outputId": "8847422d-5849-4a9f-b4e5-639cec55ae34"
      },
      "execution_count": 20,
      "outputs": [
        {
          "output_type": "stream",
          "name": "stdout",
          "text": [
            "variance: 194.0143683593222\n",
            "expectation: 120.03561592508964\n",
            "standard deviation: 13.928904061674134\n"
          ]
        },
        {
          "output_type": "display_data",
          "data": {
            "text/plain": [
              "<Figure size 640x480 with 1 Axes>"
            ],
            "image/png": "[encoded data removed]"
          },
          "metadata": {}
        }
      ]
    },
    {
      "cell_type": "markdown",
      "source": [
        "I made a Normal Distribution using the standard deviation and expectation and comparing it to the original sum that was calculated from the Poisson, Uniform, and Exponential distributions shows us and it gives us a great intuition of the told theory that;\n",
        "\n",
        " we can sum all distributions in a large scale and independent from each other and the result can be approximated by a Normal distribution"
      ],
      "metadata": {
        "id": "3Jm2Lvp-yi--"
      }
    }
  ]
}