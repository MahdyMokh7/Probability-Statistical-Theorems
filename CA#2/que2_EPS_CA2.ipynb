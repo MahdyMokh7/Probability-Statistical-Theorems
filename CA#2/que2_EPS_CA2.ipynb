{
  "nbformat": 4,
  "nbformat_minor": 0,
  "metadata": {
    "colab": {
      "provenance": []
    },
    "kernelspec": {
      "name": "python3",
      "display_name": "Python 3"
    },
    "language_info": {
      "name": "python"
    }
  },
  "cells": [
    {
      "cell_type": "markdown",
      "source": [
        "# **QUE2**"
      ],
      "metadata": {
        "id": "UQRILJOgQA99"
      }
    },
    {
      "cell_type": "markdown",
      "source": [
        "\n",
        "\n",
        "---\n",
        "\n",
        "\n",
        "Trying to solve the **Coupon Collector’s Problem**\n",
        "\n",
        "\n",
        "---\n",
        "\n"
      ],
      "metadata": {
        "id": "VHK0pPojRfaa"
      }
    },
    {
      "cell_type": "markdown",
      "source": [
        "***part1:***\n",
        "\n",
        "The code bellow is the function that will get n & k and return the average of k times that is needed to get a coupon(کالابرگ) to have the entire set that is having all of n types completely."
      ],
      "metadata": {
        "id": "rXejlxHEQDe0"
      }
    },
    {
      "cell_type": "code",
      "source": [
        "import random\n",
        "\n",
        "\n",
        "def avg_num_of_tries_to_get_all_coupons(n: int, k: int) -> float:\n",
        "    num_of_tries = []\n",
        "    for i in range(k):\n",
        "        main_list = [0 for _ in range(n)]\n",
        "        while 0 < main_list.count(0):\n",
        "            temp = random.randint(0, n - 1)\n",
        "            main_list[temp] += 1\n",
        "        num_of_tries.append(sum(main_list))\n",
        "    avg = sum(num_of_tries) / k\n",
        "    return avg"
      ],
      "metadata": {
        "id": "6FGe4vkuRq3y"
      },
      "execution_count": 19,
      "outputs": []
    },
    {
      "cell_type": "markdown",
      "source": [
        "***part2:***\n",
        "\n",
        "Testing the results"
      ],
      "metadata": {
        "id": "Z63e2Eq3W7QY"
      }
    },
    {
      "cell_type": "code",
      "source": [
        "print(\"n=10, k=10:  \", avg_num_of_tries_to_get_all_coupons(n=10, k=10))\n",
        "print(\"n=10, k=100:  \", avg_num_of_tries_to_get_all_coupons(n=10, k=100))\n",
        "print(\"n=10, k=1000:  \", avg_num_of_tries_to_get_all_coupons(n=10, k=1000))"
      ],
      "metadata": {
        "colab": {
          "base_uri": "https://localhost:8080/"
        },
        "id": "OXDsAPubW6J5",
        "outputId": "ffb9a75f-f950-41a7-f39e-47ec646186a6"
      },
      "execution_count": 20,
      "outputs": [
        {
          "output_type": "stream",
          "name": "stdout",
          "text": [
            "n=10, k=10:   24.1\n",
            "n=10, k=100:   31.3\n",
            "n=10, k=1000:   29.001\n"
          ]
        }
      ]
    },
    {
      "cell_type": "markdown",
      "source": [
        "***part3:***\n",
        "\n",
        "\n",
        "$X$ = $X_1$ + $X_2$ + $X_3$ + ... + $X_n$\n",
        "\n",
        "$X$ = $\\sum_{i=1}^{n} X_i$\n",
        "\n",
        "$X_i$ ~ Geo(p) , $p_i$ = $(n-(i-1))/n$\n"
      ],
      "metadata": {
        "id": "o1x-by5hZ42S"
      }
    },
    {
      "cell_type": "markdown",
      "source": [
        "\n",
        "\n",
        "---\n",
        "\n",
        "\n",
        "Seeing the $ith$ coupon no mater what the i's value is, $X_i$ is all the same.\n",
        "\n",
        "So the moment genrateing funciton(MGF) of X is: $M_{X_i}(s) = \\left( \\frac{{p_i}e^s}{1 - (1-{p_i})e^s} \\right)$\n",
        "\n",
        "all of them are i.i.d"
      ],
      "metadata": {
        "id": "cCcmldsfbaUU"
      }
    },
    {
      "cell_type": "code",
      "source": [
        "#part3\n",
        "import sympy\n",
        "\n",
        "s = sympy.symbols('s')\n",
        "\n",
        "n = 10\n",
        "p = [(n-i)/n for i in range(n)]\n",
        "\n",
        "mgf_Xi = [((p[i] * sympy.exp(s)) / (1 - ((1 - p[i]) * sympy.exp(s)))) for i in range(n)]"
      ],
      "metadata": {
        "id": "m-tpgdyF8b-H"
      },
      "execution_count": 21,
      "outputs": []
    },
    {
      "cell_type": "markdown",
      "source": [
        "$M_X(s)$ = $\\prod_{i=1}^{n} {M_{X_i}(s)}$"
      ],
      "metadata": {
        "id": "kw-9mIYP8iNK"
      }
    },
    {
      "cell_type": "code",
      "source": [
        "# part4\n",
        "mgf_X = 1\n",
        "for i in range(n):\n",
        "    mgf_X *= mgf_Xi[i]"
      ],
      "metadata": {
        "id": "YYqofxzc9pfL"
      },
      "execution_count": 22,
      "outputs": []
    },
    {
      "cell_type": "markdown",
      "source": [
        "If we take the derivative of the moment generating function(MGF) and set it to zero, it will give us the expectation of the random variable X.\n",
        "\n",
        "$\\frac{d M_X(s)}{ds} \\bigg|_{s=0} = E(X)$"
      ],
      "metadata": {
        "id": "9ePY9Sja-Ana"
      }
    },
    {
      "cell_type": "code",
      "source": [
        "# part5\n",
        "deriv_mgf_x = sympy.diff(mgf_X, s)"
      ],
      "metadata": {
        "id": "BmepVkLS-y4_"
      },
      "execution_count": 23,
      "outputs": []
    },
    {
      "cell_type": "markdown",
      "source": [
        "Now we will compare the two results from part2 and part5.\n",
        "\n",
        "If we have doen a correct job of calculating the MGF and afterward wrote the aquations correctly the $E(X)$ that we are printing should be near and around the real answer that we calculated using the \"Monte Carlo solution\" that was experimenting the hole thing multiple of times ro see the results."
      ],
      "metadata": {
        "id": "rBOhJ2d5ADh-"
      }
    },
    {
      "cell_type": "code",
      "source": [
        "print(\"MGF solution:  \", deriv_mgf_x.subs({s:0}))\n",
        "print(\"Monte Carlo solution:  \", avg_num_of_tries_to_get_all_coupons(n=10, k=1000))"
      ],
      "metadata": {
        "colab": {
          "base_uri": "https://localhost:8080/"
        },
        "id": "m_GHg7SxAKuO",
        "outputId": "0db8fb70-ecc4-4968-c05c-8d2cd46fff3c"
      },
      "execution_count": 24,
      "outputs": [
        {
          "output_type": "stream",
          "name": "stdout",
          "text": [
            "MGF solution:   29.2896825396826\n",
            "Monte Carlo solution:   29.101\n"
          ]
        }
      ]
    }
  ]
}